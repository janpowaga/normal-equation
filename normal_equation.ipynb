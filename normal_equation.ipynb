{
 "cells": [
  {
   "cell_type": "markdown",
   "id": "29c40be2",
   "metadata": {},
   "source": [
    "# Multivariate Linear Regression Using Normal Equation\n",
    "Multivariate linear regression is a method to determine the relationship between multiple independent variables (predictors) and a dependent (target) variable. The normal equation uses matrix properties to solve a set of linear equations and calculate the optimal coefficients that minimize the MSE (mean squared error) between the predicted values, and the actual target values. By solving the normal equation, we can obtain the optimal values of the coefficients and use them to predict the dependent variable for new values.\n",
    "\n",
    "We're going to use two formulas:\n",
    "\n",
    "Hypothesis function for multivariate regression<br>\n",
    "$h_\\theta(x)=\\theta_0+\\theta_1x_1+\\theta_2x_2+...+\\theta_nx_n$\n",
    "\n",
    "Normal equation<br>\n",
    "$\\theta=(X^TX)^{-1}\\cdot(X^Ty)$"
   ]
  },
  {
   "cell_type": "code",
   "execution_count": 1,
   "id": "4c6f12f6",
   "metadata": {},
   "outputs": [],
   "source": [
    "# Import necessary libraries\n",
    "import numpy as np\n",
    "import matplotlib.pyplot as plt"
   ]
  },
  {
   "cell_type": "markdown",
   "id": "896df44b",
   "metadata": {},
   "source": [
    "Now we'll create simulated data and calculate target (y) based on $y=3+500x_1+20x_2+x_3$ formula."
   ]
  },
  {
   "cell_type": "code",
   "execution_count": 2,
   "id": "0180910a",
   "metadata": {},
   "outputs": [
    {
     "data": {
      "image/png": "[encoded data removed]",
      "text/plain": [
       "<Figure size 432x288 with 3 Axes>"
      ]
     },
     "metadata": {
      "needs_background": "light"
     },
     "output_type": "display_data"
    }
   ],
   "source": [
    "# Create simulated data\n",
    "x_1 = 2 * np.random.rand(100, 1)\n",
    "x_2 = 50 * np.random.rand(100, 1)\n",
    "x_3 = 1000 * np.random.rand(100, 1)\n",
    "\n",
    "# Calculate target variable based on y = 3 + 500x1 + 20x2 + x3 formula\n",
    "y = 3 + 500 * x_1 + 20 * x_2 + x_3\n",
    "\n",
    "# Plot the simulated data\n",
    "fig, axs = plt.subplots(2, 2)\n",
    "fig.tight_layout(h_pad=2, w_pad=2)\n",
    "\n",
    "axs[0, 0].plot(x_1, y, 'k.')\n",
    "axs[0, 0].set(xlabel='$x_1$', ylabel='y')\n",
    "\n",
    "axs[0, 1].plot(x_2, y, 'k.')\n",
    "axs[0, 1].set(xlabel='$x_2$', ylabel='y')\n",
    "\n",
    "axs[1, 0].plot(x_3, y, 'k.')\n",
    "axs[1, 0].set(xlabel='$x_3$', ylabel='y')\n",
    "\n",
    "axs[1, 1].remove()\n",
    "plt.show()"
   ]
  },
  {
   "cell_type": "code",
   "execution_count": 3,
   "id": "2ce7698a",
   "metadata": {},
   "outputs": [
    {
     "name": "stdout",
     "output_type": "stream",
     "text": [
      "[[1.00000000e+00 2.29305320e-01 2.48949938e+01 3.37872813e+02]\n",
      " [1.00000000e+00 1.55620929e+00 3.11543538e+00 5.24677249e+02]\n",
      " [1.00000000e+00 1.84811159e+00 4.93636197e+01 9.53709937e+02]\n",
      " [1.00000000e+00 1.97916196e+00 4.34068012e+01 2.15638087e+00]\n",
      " [1.00000000e+00 8.51250946e-01 1.53926661e+01 1.72021815e+02]]\n"
     ]
    }
   ],
   "source": [
    "# Create a vector of 1's as the bias is constant\n",
    "x_bias = np.ones((100, 1)) \n",
    "\n",
    "# Combine predictors into a matrix\n",
    "X = np.concatenate([x_bias, x_1, x_2, x_3], axis=1)\n",
    "\n",
    "# Print first 5 records\n",
    "print(X[:5])"
   ]
  },
  {
   "cell_type": "markdown",
   "id": "1f0193a7",
   "metadata": {},
   "source": [
    "Let's work through the equation step by step. We'll divide it into smaller parts to ensure understanding."
   ]
  },
  {
   "cell_type": "code",
   "execution_count": 4,
   "id": "d2d17356",
   "metadata": {},
   "outputs": [
    {
     "data": {
      "text/plain": [
       "array([[  3.],\n",
       "       [500.],\n",
       "       [ 20.],\n",
       "       [  1.]])"
      ]
     },
     "execution_count": 4,
     "metadata": {},
     "output_type": "execute_result"
    }
   ],
   "source": [
    "# Transpose X matrix\n",
    "Xt = X.T\n",
    "\n",
    "# Invert the dot product of transposed X and regular X matrix\n",
    "Xt_X_inv = np.linalg.inv(Xt.dot(X))\n",
    "\n",
    "# Multiply transposed X and y\n",
    "Xt_y = (Xt).dot(y)\n",
    "\n",
    "# Multiply both parts to find coefficients\n",
    "theta = Xt_X_inv.dot(Xt_y)\n",
    "theta"
   ]
  },
  {
   "cell_type": "markdown",
   "id": "a8297527",
   "metadata": {},
   "source": [
    "Got it. We calulated the coefficients using only a set of predictors and matrix properties."
   ]
  }
 ],
 "metadata": {
  "kernelspec": {
   "display_name": "Python 3 (ipykernel)",
   "language": "python",
   "name": "python3"
  },
  "language_info": {
   "codemirror_mode": {
    "name": "ipython",
    "version": 3
   },
   "file_extension": ".py",
   "mimetype": "text/x-python",
   "name": "python",
   "nbconvert_exporter": "python",
   "pygments_lexer": "ipython3",
   "version": "3.9.12"
  }
 },
 "nbformat": 4,
 "nbformat_minor": 5
}
